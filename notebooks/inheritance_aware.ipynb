{
 "cells": [
  {
   "cell_type": "code",
   "execution_count": 3,
   "id": "1e416d5e",
   "metadata": {},
   "outputs": [],
   "source": [
    "from typing import Any, Dict, List, Optional\n",
    "\n",
    "from pydantic import BaseModel, root_validator\n",
    "\n",
    "# Code cobbled together from various sources:\n",
    "# https://github.com/samuelcolvin/pydantic/discussions/3091\n",
    "# https://github.com/samuelcolvin/pydantic/issues/2177\n",
    "# https://github.com/samuelcolvin/pydantic/discussions/3906\n",
    "\n",
    "class InheritanceAware(BaseModel):\n",
    "\n",
    "    t: str\n",
    "    \n",
    "    # used to register automatically all the submodels in `_types`.\n",
    "    _subtypes_: Dict[str, type] = {}\n",
    "    def __init_subclass__(cls):\n",
    "        cls._subtypes_[cls.__name__] = cls\n",
    "    \n",
    "    @classmethod\n",
    "    def __get_validators__(cls):\n",
    "        yield cls._convert_to_real_type_\n",
    "\n",
    "    @classmethod\n",
    "    def _convert_to_real_type_(cls, data):\n",
    "        if issubclass(type(data), cls): return data\n",
    "        data_type = data.get(\"t\")\n",
    "\n",
    "        if data_type is None:\n",
    "            raise ValueError(\"Missing 'type' attribute\")\n",
    "\n",
    "        sub = cls._subtypes_.get(data_type)\n",
    "\n",
    "        if sub is None:\n",
    "            raise TypeError(f\"Unsupported sub-type: {data_type}\")\n",
    "\n",
    "        return sub(**data)\n",
    "    \n",
    "    @classmethod\n",
    "    def parse_obj(cls, obj):\n",
    "        return cls._convert_to_real_type_(obj)\n",
    "    \n",
    "    @root_validator(pre=True)\n",
    "    def set_t(cls, values):\n",
    "        values['t'] = cls.__name__\n",
    "        return values\n",
    "\n"
   ]
  },
  {
   "cell_type": "code",
   "execution_count": 13,
   "id": "d7321776",
   "metadata": {},
   "outputs": [
    {
     "name": "stdout",
     "output_type": "stream",
     "text": [
      "pets=[Cat(t='Cat', name='Garfield', age=7), Dog(t='Dog', name='Snoopy', food='sandwich')]\n",
      "Using pet constructor: <class '__main__.Pet'>\n",
      "Using Pet.parse_obj: <class '__main__.Cat'>\n",
      "Using Pet.parse_raw: <class '__main__.Cat'>\n",
      "cat.json(): {\"t\": \"Cat\", \"name\": \"Garfield\", \"age\": 7}\n",
      "Instantiate with objects: pets=[Cat(t='Cat', name='Garfield', age=7)]\n"
     ]
    }
   ],
   "source": [
    "\n",
    "class Pet(InheritanceAware):\n",
    "    name: str\n",
    "\n",
    "class Cat(Pet):\n",
    "    age: int\n",
    "\n",
    "class Dog(Pet):\n",
    "    name: str\n",
    "    food: str\n",
    "\n",
    "class Person(BaseModel):\n",
    "    pets: List[Pet]\n",
    "\n",
    "cat_obj = {'t': 'Cat', 'name': 'Garfield', 'age': 7}\n",
    "dog_obj = {'t': 'Dog', 'name': 'Snoopy', 'food': 'sandwich'}\n",
    "\n",
    "# Correctly instantiates subclasses:\n",
    "print(Person(pets=[cat_obj, dog_obj]))\n",
    "\n",
    "\n",
    "# This doesn't instantiate the subclass because it calls the constructor directly:\n",
    "cat = Pet(**cat_obj)\n",
    "print(\"Using pet constructor:\", type(cat))\n",
    "\n",
    "# Instead use parse_obj():\n",
    "cat = Pet.parse_obj(cat_obj)\n",
    "print(\"Using Pet.parse_obj:\", type(cat))\n",
    "\n",
    "# parse_raw() also works because it calls parse_obj internally:\n",
    "cat = Pet.parse_raw('{\"t\": \"Cat\", \"name\": \"Garfield\", \"age\": 7}')\n",
    "print(\"Using Pet.parse_raw:\", type(cat))\n",
    "\n",
    "# Correctly serializes type information as \"t\":\n",
    "print(\"cat.json():\", cat.json())\n",
    "\n",
    "# For this to work, we needed to add the following to _convert_to_real_type_:\n",
    "#   if issubclass(type(data), cls): return data\n",
    "print(\"Instantiate with objects:\", Person(pets = [cat]))\n"
   ]
  },
  {
   "cell_type": "code",
   "execution_count": null,
   "id": "1e30eb1d",
   "metadata": {},
   "outputs": [],
   "source": []
  }
 ],
 "metadata": {
  "kernelspec": {
   "display_name": "Python 3 (ipykernel)",
   "language": "python",
   "name": "python3"
  },
  "language_info": {
   "codemirror_mode": {
    "name": "ipython",
    "version": 3
   },
   "file_extension": ".py",
   "mimetype": "text/x-python",
   "name": "python",
   "nbconvert_exporter": "python",
   "pygments_lexer": "ipython3",
   "version": "3.8.13"
  }
 },
 "nbformat": 4,
 "nbformat_minor": 5
}
